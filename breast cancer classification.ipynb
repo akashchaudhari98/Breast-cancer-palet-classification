{
 "cells": [
  {
   "cell_type": "code",
   "execution_count": 1,
   "metadata": {},
   "outputs": [],
   "source": [
    "import os \n",
    "os.environ[\"CUDA_VISIBLE_DEVICES\"]=\"\""
   ]
  },
  {
   "cell_type": "code",
   "execution_count": 2,
   "metadata": {},
   "outputs": [],
   "source": [
    "from tensorflow.keras.preprocessing import image\n",
    "from tensorflow.keras import callbacks,optimizers,utils\n",
    "from sklearn.metrics import classification_report\n",
    "from sklearn.metrics import confusion_matrix\n",
    "import matplotlib.pyplot as plt\n",
    "import numpy as np\n",
    "import os\n",
    "# import tensorflow as tf"
   ]
  },
  {
   "cell_type": "code",
   "execution_count": 3,
   "metadata": {},
   "outputs": [],
   "source": [
    "# from tensorflow.keras.preprocessing.image import ImageDataGenerator\n",
    "# from tensorflow.keras.callbacks import LearningRateScheduler\n",
    "# from tensorflow.keras.optimizers import Adagrad\n",
    "# from tensorflow.keras.utils import np_utils\n",
    "# from sklearn.metrics import classification_report\n",
    "# from sklearn.metrics import confusion_matrix\n",
    "# import matplotlib.pyplot as plt\n",
    "# import numpy as np\n",
    "# import os"
   ]
  },
  {
   "cell_type": "code",
   "execution_count": 4,
   "metadata": {},
   "outputs": [],
   "source": [
    "# determine the total number of image paths in training, validation,\n",
    "# and testing directories\n",
    "from imutils import paths\n",
    "# initialize our number of epochs, initial learning rate, and batch\n",
    "# size\n",
    "NUM_EPOCHS = 40\n",
    "INIT_LR = 1e-2\n",
    "BS = 32\n",
    "\n",
    "os.chdir(\"D:/Dataset/breast-cancer-classification\")\n",
    "trainPaths = list(paths.list_images(\"datasets_new/training\"))\n",
    "#got all train images\n",
    "totalTrain = len(trainPaths)\n",
    "totalVal = len(list(paths.list_images(\"datasets_new/validation\")))\n",
    "totalTest = len(list(paths.list_images(\"datasets_new/testing\")))"
   ]
  },
  {
   "cell_type": "code",
   "execution_count": 5,
   "metadata": {},
   "outputs": [],
   "source": [
    "\n",
    "# account for skew in the labeled data\n",
    "trainLabels = [int(p.split(os.path.sep)[-2]) for p in trainPaths]\n",
    "trainLabels = utils.to_categorical(trainLabels)\n",
    "classTotals = trainLabels.sum(axis=0)\n",
    "classWeight = classTotals.max() / classTotals"
   ]
  },
  {
   "cell_type": "code",
   "execution_count": 6,
   "metadata": {},
   "outputs": [],
   "source": [
    "\n",
    "# initialize the training data augmentation object\n",
    "trainAug = image.ImageDataGenerator(\n",
    "rescale=1 / 255.0,\n",
    "rotation_range=20,\n",
    "zoom_range=0.05,\n",
    "width_shift_range=0.1,\n",
    "height_shift_range=0.1,\n",
    "shear_range=0.05,\n",
    "horizontal_flip=True,\n",
    "vertical_flip=True,\n",
    "fill_mode=\"nearest\")\n",
    " \n",
    "# initialize the validation (and testing) data augmentation object\n",
    "valAug = image.ImageDataGenerator(rescale=1 / 255.0)"
   ]
  },
  {
   "cell_type": "code",
   "execution_count": 7,
   "metadata": {},
   "outputs": [
    {
     "name": "stdout",
     "output_type": "stream",
     "text": [
      "Found 55505 images belonging to 2 classes.\n",
      "1\n",
      "Found 22201 images belonging to 2 classes.\n",
      "2\n",
      "Found 55505 images belonging to 2 classes.\n"
     ]
    }
   ],
   "source": [
    "# initialize the training generator\n",
    "trainGen = trainAug.flow_from_directory(\"D:/Dataset/breast-cancer-classification/datasets_new/testing\"\n",
    ",\n",
    "class_mode=\"categorical\",\n",
    "target_size=(48, 48),\n",
    "color_mode=\"rgb\",\n",
    "shuffle=True,\n",
    "batch_size=BS)\n",
    "print(\"1\")\n",
    "# initialize the validation generator\n",
    "valGen = valAug.flow_from_directory(\n",
    "\"D:/Dataset/breast-cancer-classification/datasets_new/validation\",\n",
    "class_mode=\"categorical\",\n",
    "target_size=(48, 48),\n",
    "color_mode=\"rgb\",\n",
    "shuffle=False,\n",
    "batch_size=BS)\n",
    "print(\"2\")\n",
    "# initialize the testing generator\n",
    "testGen = valAug.flow_from_directory(\n",
    "\"D:/Dataset/breast-cancer-classification/datasets_new/testing\",\n",
    "class_mode=\"categorical\",\n",
    "target_size=(48, 48),\n",
    "color_mode=\"rgb\",\n",
    "shuffle=False,\n",
    "batch_size=BS)"
   ]
  },
  {
   "cell_type": "markdown",
   "metadata": {},
   "source": [
    "# MODEL"
   ]
  },
  {
   "cell_type": "code",
   "execution_count": 8,
   "metadata": {},
   "outputs": [],
   "source": [
    "from tensorflow.keras import models\n",
    "from tensorflow.keras import layers\n",
    "import tensorflow.keras.backend as K"
   ]
  },
  {
   "cell_type": "code",
   "execution_count": 9,
   "metadata": {},
   "outputs": [],
   "source": [
    "\n",
    "# from tensorflow.keras.models import Sequential\n",
    "# from tensorflow.keras.layers.normalization import BatchNormalization\n",
    "# from tensorflow.keras.layers.convolutional import SeparableConv2D\n",
    "# from tensorflow.keras.layers.convolutional import MaxPooling2D\n",
    "# from tensorflow.keras.layers.core import Activation\n",
    "# from tensorflow.keras.layers.core import Flatten\n",
    "# from tensorflow.keras.layers.core import Dropout\n",
    "# from tensorflow.keras.layers.core import Dense\n",
    "# from tensorflow.keras import backend as K"
   ]
  },
  {
   "cell_type": "code",
   "execution_count": 10,
   "metadata": {},
   "outputs": [],
   "source": [
    "inputShape = (48, 48, 3)\n",
    "chanDim = -1"
   ]
  },
  {
   "cell_type": "code",
   "execution_count": 11,
   "metadata": {
    "scrolled": true
   },
   "outputs": [
    {
     "name": "stdout",
     "output_type": "stream",
     "text": [
      "WARNING:tensorflow:From C:\\Users\\Akash\\Anaconda3\\envs\\gpu_use\\lib\\site-packages\\tensorflow\\python\\ops\\resource_variable_ops.py:435: colocate_with (from tensorflow.python.framework.ops) is deprecated and will be removed in a future version.\n",
      "Instructions for updating:\n",
      "Colocations handled automatically by placer.\n",
      "WARNING:tensorflow:From C:\\Users\\Akash\\Anaconda3\\envs\\gpu_use\\lib\\site-packages\\tensorflow\\python\\keras\\layers\\core.py:143: calling dropout (from tensorflow.python.ops.nn_ops) with keep_prob is deprecated and will be removed in a future version.\n",
      "Instructions for updating:\n",
      "Please use `rate` instead of `keep_prob`. Rate should be set to `rate = 1 - keep_prob`.\n"
     ]
    }
   ],
   "source": [
    "model = models.Sequential()\n",
    "model.add(layers.SeparableConv2D(32, (3, 3), padding=\"same\",input_shape=inputShape))\n",
    "model.add(layers.Activation(\"relu\"))\n",
    "model.add(layers.BatchNormalization(axis=chanDim))\n",
    "model.add(layers.MaxPooling2D(pool_size=(2, 2)))\n",
    "model.add(layers.Dropout(0.25))"
   ]
  },
  {
   "cell_type": "code",
   "execution_count": 12,
   "metadata": {},
   "outputs": [],
   "source": [
    "# (CONV => RELU => POOL) * 2\n",
    "model.add(layers.SeparableConv2D(64, (3, 3), padding=\"same\"))\n",
    "model.add(layers.Activation(\"relu\"))\n",
    "model.add(layers.BatchNormalization(axis=chanDim))\n",
    "model.add(layers.SeparableConv2D(64, (3, 3), padding=\"same\"))\n",
    "model.add(layers.Activation(\"relu\"))\n",
    "model.add(layers.BatchNormalization(axis=chanDim))\n",
    "model.add(layers.MaxPooling2D(pool_size=(2, 2)))\n",
    "model.add(layers.Dropout(0.25))"
   ]
  },
  {
   "cell_type": "code",
   "execution_count": 13,
   "metadata": {},
   "outputs": [],
   "source": [
    "# (CONV => RELU => POOL) * 3\n",
    "model.add(layers.SeparableConv2D(128, (3, 3), padding=\"same\"))\n",
    "model.add(layers.Activation(\"relu\"))\n",
    "model.add(layers.BatchNormalization(axis=chanDim))\n",
    "model.add(layers.SeparableConv2D(128, (3, 3), padding=\"same\"))\n",
    "model.add(layers.Activation(\"relu\"))\n",
    "model.add(layers.BatchNormalization(axis=chanDim))\n",
    "model.add(layers.SeparableConv2D(128, (3, 3), padding=\"same\"))\n",
    "model.add(layers.Activation(\"relu\"))\n",
    "model.add(layers.BatchNormalization(axis=chanDim))\n",
    "model.add(layers.MaxPooling2D(pool_size=(2, 2)))\n",
    "model.add(layers.Dropout(0.25))"
   ]
  },
  {
   "cell_type": "markdown",
   "metadata": {},
   "source": [
    "# CLASSIFIER"
   ]
  },
  {
   "cell_type": "code",
   "execution_count": 14,
   "metadata": {},
   "outputs": [],
   "source": [
    "# first (and only) set of FC => RELU layers\n",
    "classes = 2\n",
    "model.add(layers.Flatten())\n",
    "model.add(layers.Dense(256))\n",
    "model.add(layers.Activation(\"relu\"))\n",
    "model.add(layers.BatchNormalization())\n",
    "model.add(layers.Dropout(0.5))\n",
    " \n",
    "# softmax classifier\n",
    "model.add(layers.Dense(classes))\n",
    "model.add(layers.Activation(\"softmax\"))\n",
    " \n"
   ]
  },
  {
   "cell_type": "markdown",
   "metadata": {},
   "source": [
    "# TRAINING"
   ]
  },
  {
   "cell_type": "code",
   "execution_count": 15,
   "metadata": {
    "scrolled": false
   },
   "outputs": [
    {
     "name": "stdout",
     "output_type": "stream",
     "text": [
      "[INFO] TRAINING network...\n",
      "WARNING:tensorflow:From C:\\Users\\Akash\\Anaconda3\\envs\\gpu_use\\lib\\site-packages\\tensorflow\\python\\ops\\math_ops.py:3066: to_int32 (from tensorflow.python.ops.math_ops) is deprecated and will be removed in a future version.\n",
      "Instructions for updating:\n",
      "Use tf.cast instead.\n",
      "Epoch 1/40\n",
      "694/694 [==============================] - 381s 549ms/step - loss: 0.4554 - acc: 0.8161\n",
      "1735/1735 [==============================] - 1730s 997ms/step - loss: 0.4218 - acc: 0.8255 - val_loss: 0.4554 - val_acc: 0.8161\n",
      "Epoch 2/40\n",
      "694/694 [==============================] - 19s 27ms/step - loss: 0.4255 - acc: 0.8263\n",
      "1735/1735 [==============================] - 143s 82ms/step - loss: 0.3597 - acc: 0.8465 - val_loss: 0.4255 - val_acc: 0.8263\n",
      "Epoch 3/40\n",
      "694/694 [==============================] - 20s 29ms/step - loss: 0.3936 - acc: 0.8440\n",
      "1735/1735 [==============================] - 138s 80ms/step - loss: 0.3478 - acc: 0.8524 - val_loss: 0.3936 - val_acc: 0.8440\n",
      "Epoch 4/40\n",
      "694/694 [==============================] - 18s 27ms/step - loss: 0.3699 - acc: 0.8515\n",
      "1735/1735 [==============================] - 136s 78ms/step - loss: 0.3417 - acc: 0.8557 - val_loss: 0.3699 - val_acc: 0.8515\n",
      "Epoch 5/40\n",
      "694/694 [==============================] - 19s 27ms/step - loss: 0.3782 - acc: 0.8495\n",
      "1735/1735 [==============================] - 134s 77ms/step - loss: 0.3388 - acc: 0.8563 - val_loss: 0.3782 - val_acc: 0.8495\n",
      "Epoch 6/40\n",
      "694/694 [==============================] - 18s 26ms/step - loss: 0.3778 - acc: 0.8526 1s - loss:\n",
      "1735/1735 [==============================] - 139s 80ms/step - loss: 0.3376 - acc: 0.8569 - val_loss: 0.3778 - val_acc: 0.8526\n",
      "Epoch 7/40\n",
      "694/694 [==============================] - 19s 28ms/step - loss: 0.3910 - acc: 0.8519\n",
      "1735/1735 [==============================] - 141s 81ms/step - loss: 0.3355 - acc: 0.8562 - val_loss: 0.3910 - val_acc: 0.8519\n",
      "Epoch 8/40\n",
      "694/694 [==============================] - 20s 28ms/step - loss: 0.3944 - acc: 0.8521\n",
      "1735/1735 [==============================] - 140s 81ms/step - loss: 0.3346 - acc: 0.8591 - val_loss: 0.3944 - val_acc: 0.8521\n",
      "Epoch 9/40\n",
      "694/694 [==============================] - 19s 27ms/step - loss: 0.3862 - acc: 0.8548\n",
      "1735/1735 [==============================] - 139s 80ms/step - loss: 0.3319 - acc: 0.8598 - val_loss: 0.3862 - val_acc: 0.8548\n",
      "Epoch 10/40\n",
      "694/694 [==============================] - 21s 30ms/step - loss: 0.3783 - acc: 0.8542\n",
      "1735/1735 [==============================] - 143s 83ms/step - loss: 0.3311 - acc: 0.8596 - val_loss: 0.3783 - val_acc: 0.8542\n",
      "Epoch 11/40\n",
      "694/694 [==============================] - 20s 29ms/step - loss: 0.3836 - acc: 0.8518\n",
      "1735/1735 [==============================] - 147s 85ms/step - loss: 0.3317 - acc: 0.8595 - val_loss: 0.3836 - val_acc: 0.8518\n",
      "Epoch 12/40\n",
      "694/694 [==============================] - 22s 32ms/step - loss: 0.3805 - acc: 0.8524\n",
      "1735/1735 [==============================] - 155s 89ms/step - loss: 0.3314 - acc: 0.8603 - val_loss: 0.3805 - val_acc: 0.8524\n",
      "Epoch 13/40\n",
      "694/694 [==============================] - 24s 34ms/step - loss: 0.3844 - acc: 0.8532\n",
      "1735/1735 [==============================] - 168s 97ms/step - loss: 0.3294 - acc: 0.8606 - val_loss: 0.3844 - val_acc: 0.8532\n",
      "Epoch 14/40\n",
      "694/694 [==============================] - 19s 27ms/step - loss: 0.3974 - acc: 0.8513\n",
      "1735/1735 [==============================] - 150s 87ms/step - loss: 0.3292 - acc: 0.8606 - val_loss: 0.3974 - val_acc: 0.8513\n",
      "Epoch 15/40\n",
      "694/694 [==============================] - 19s 27ms/step - loss: 0.3859 - acc: 0.8546\n",
      "1735/1735 [==============================] - 141s 81ms/step - loss: 0.3281 - acc: 0.8612 - val_loss: 0.3859 - val_acc: 0.8546\n",
      "Epoch 16/40\n",
      "694/694 [==============================] - 18s 26ms/step - loss: 0.3858 - acc: 0.8532\n",
      "1735/1735 [==============================] - 138s 79ms/step - loss: 0.3297 - acc: 0.8595 - val_loss: 0.3858 - val_acc: 0.8532\n",
      "Epoch 17/40\n",
      "694/694 [==============================] - 19s 27ms/step - loss: 0.3843 - acc: 0.8534\n",
      "1735/1735 [==============================] - 136s 78ms/step - loss: 0.3281 - acc: 0.8619 - val_loss: 0.3843 - val_acc: 0.8534\n",
      "Epoch 18/40\n",
      "694/694 [==============================] - 21s 30ms/step - loss: 0.3833 - acc: 0.8535\n",
      "1735/1735 [==============================] - 158s 91ms/step - loss: 0.3277 - acc: 0.8627 - val_loss: 0.3833 - val_acc: 0.8535\n",
      "Epoch 19/40\n",
      "694/694 [==============================] - 20s 29ms/step - loss: 0.3841 - acc: 0.8516 0s - loss: 0.384\n",
      "1735/1735 [==============================] - 149s 86ms/step - loss: 0.3259 - acc: 0.8622 - val_loss: 0.3841 - val_acc: 0.8516\n",
      "Epoch 20/40\n",
      "694/694 [==============================] - 20s 29ms/step - loss: 0.3805 - acc: 0.8539\n",
      "1735/1735 [==============================] - 152s 87ms/step - loss: 0.3273 - acc: 0.8615 - val_loss: 0.3805 - val_acc: 0.8539\n",
      "Epoch 21/40\n",
      "694/694 [==============================] - 20s 28ms/step - loss: 0.3813 - acc: 0.8531\n",
      "1735/1735 [==============================] - 140s 81ms/step - loss: 0.3270 - acc: 0.8611 - val_loss: 0.3813 - val_acc: 0.8531\n",
      "Epoch 22/40\n",
      "694/694 [==============================] - 19s 27ms/step - loss: 0.3877 - acc: 0.8511\n",
      "1735/1735 [==============================] - 140s 81ms/step - loss: 0.3256 - acc: 0.8629 - val_loss: 0.3877 - val_acc: 0.8511\n",
      "Epoch 23/40\n",
      "694/694 [==============================] - 19s 28ms/step - loss: 0.3804 - acc: 0.8539\n",
      "1735/1735 [==============================] - 139s 80ms/step - loss: 0.3247 - acc: 0.8623 - val_loss: 0.3804 - val_acc: 0.8539\n",
      "Epoch 24/40\n",
      "694/694 [==============================] - 24s 35ms/step - loss: 0.3804 - acc: 0.8535 0s - loss: 0.3818 - acc: 0\n",
      "1735/1735 [==============================] - 150s 86ms/step - loss: 0.3250 - acc: 0.8614 - val_loss: 0.3804 - val_acc: 0.8535\n",
      "Epoch 25/40\n",
      "694/694 [==============================] - 26s 37ms/step - loss: 0.3832 - acc: 0.8527\n",
      "1735/1735 [==============================] - 154s 89ms/step - loss: 0.3251 - acc: 0.8630 - val_loss: 0.3832 - val_acc: 0.8527\n",
      "Epoch 26/40\n",
      "694/694 [==============================] - 21s 31ms/step - loss: 0.3815 - acc: 0.8546\n",
      "1735/1735 [==============================] - 143s 82ms/step - loss: 0.3250 - acc: 0.8620 - val_loss: 0.3815 - val_acc: 0.8546\n",
      "Epoch 27/40\n",
      "694/694 [==============================] - 21s 30ms/step - loss: 0.3800 - acc: 0.8548\n",
      "1735/1735 [==============================] - 144s 83ms/step - loss: 0.3253 - acc: 0.8633 - val_loss: 0.3800 - val_acc: 0.8548\n",
      "Epoch 28/40\n",
      "694/694 [==============================] - 21s 30ms/step - loss: 0.3845 - acc: 0.8554\n",
      "1735/1735 [==============================] - 144s 83ms/step - loss: 0.3270 - acc: 0.8621 - val_loss: 0.3845 - val_acc: 0.8554\n",
      "Epoch 29/40\n",
      "694/694 [==============================] - 19s 28ms/step - loss: 0.3900 - acc: 0.8537\n",
      "1735/1735 [==============================] - 132s 76ms/step - loss: 0.3265 - acc: 0.8631 - val_loss: 0.3900 - val_acc: 0.8537\n",
      "Epoch 30/40\n",
      "694/694 [==============================] - 20s 29ms/step - loss: 0.3804 - acc: 0.8551\n",
      "1735/1735 [==============================] - 149s 86ms/step - loss: 0.3262 - acc: 0.8627 - val_loss: 0.3804 - val_acc: 0.8551\n",
      "Epoch 31/40\n",
      "694/694 [==============================] - 21s 30ms/step - loss: 0.3846 - acc: 0.8546\n",
      "1735/1735 [==============================] - 148s 85ms/step - loss: 0.3250 - acc: 0.8631 - val_loss: 0.3846 - val_acc: 0.8546\n",
      "Epoch 32/40\n",
      "694/694 [==============================] - 20s 29ms/step - loss: 0.3874 - acc: 0.8541\n",
      "1735/1735 [==============================] - 156s 90ms/step - loss: 0.3237 - acc: 0.8630 - val_loss: 0.3874 - val_acc: 0.8541\n",
      "Epoch 33/40\n",
      "694/694 [==============================] - 25s 35ms/step - loss: 0.3823 - acc: 0.8551\n",
      "1735/1735 [==============================] - 151s 87ms/step - loss: 0.3254 - acc: 0.8618 - val_loss: 0.3823 - val_acc: 0.8551\n",
      "Epoch 34/40\n",
      "694/694 [==============================] - 20s 28ms/step - loss: 0.3842 - acc: 0.8539\n",
      "1735/1735 [==============================] - 151s 87ms/step - loss: 0.3259 - acc: 0.8627 - val_loss: 0.3842 - val_acc: 0.8539\n",
      "Epoch 35/40\n",
      "694/694 [==============================] - 20s 29ms/step - loss: 0.3902 - acc: 0.8532\n",
      "1735/1735 [==============================] - 142s 82ms/step - loss: 0.3242 - acc: 0.8628 - val_loss: 0.3902 - val_acc: 0.8532\n",
      "Epoch 36/40\n"
     ]
    },
    {
     "name": "stdout",
     "output_type": "stream",
     "text": [
      "694/694 [==============================] - 20s 28ms/step - loss: 0.3900 - acc: 0.8538\n",
      "1735/1735 [==============================] - 139s 80ms/step - loss: 0.3236 - acc: 0.8631 - val_loss: 0.3900 - val_acc: 0.8538\n",
      "Epoch 37/40\n",
      "694/694 [==============================] - 19s 28ms/step - loss: 0.3859 - acc: 0.8543\n",
      "1735/1735 [==============================] - 138s 79ms/step - loss: 0.3241 - acc: 0.8633 - val_loss: 0.3859 - val_acc: 0.8543\n",
      "Epoch 38/40\n",
      "694/694 [==============================] - 19s 28ms/step - loss: 0.3882 - acc: 0.8547\n",
      "1735/1735 [==============================] - 138s 80ms/step - loss: 0.3247 - acc: 0.8624 - val_loss: 0.3882 - val_acc: 0.8547\n",
      "Epoch 39/40\n",
      "694/694 [==============================] - 20s 29ms/step - loss: 0.3883 - acc: 0.8543\n",
      "1735/1735 [==============================] - 147s 85ms/step - loss: 0.3247 - acc: 0.8622 - val_loss: 0.3883 - val_acc: 0.8543\n",
      "Epoch 40/40\n",
      "694/694 [==============================] - 21s 30ms/step - loss: 0.3896 - acc: 0.8544\n",
      "1735/1735 [==============================] - 152s 88ms/step - loss: 0.3240 - acc: 0.8629 - val_loss: 0.3896 - val_acc: 0.8544\n"
     ]
    },
    {
     "data": {
      "text/plain": [
       "<tensorflow.python.keras.callbacks.History at 0x150f19dc208>"
      ]
     },
     "execution_count": 15,
     "metadata": {},
     "output_type": "execute_result"
    }
   ],
   "source": [
    "print(\"[INFO] TRAINING network...\")\n",
    "model.build()\n",
    "opt = optimizers.Adagrad(lr=INIT_LR, decay=INIT_LR / NUM_EPOCHS)\n",
    "model.compile(\n",
    "loss = \"binary_crossentropy\" , optimizer = opt,\n",
    "metrics = [\"accuracy\"])\n",
    "\n",
    "# with tf.device('/cpu:0'):\n",
    "model.fit_generator(\n",
    "trainGen,\n",
    "steps_per_epoch = totalTrain//BS,\n",
    "validation_data = valGen,\n",
    "validation_steps = totalVal//BS,\n",
    "\n",
    "epochs= NUM_EPOCHS\n",
    ")"
   ]
  },
  {
   "cell_type": "code",
   "execution_count": null,
   "metadata": {},
   "outputs": [],
   "source": []
  },
  {
   "cell_type": "markdown",
   "metadata": {},
   "source": [
    "# evaluation"
   ]
  },
  {
   "cell_type": "code",
   "execution_count": 16,
   "metadata": {},
   "outputs": [
    {
     "name": "stdout",
     "output_type": "stream",
     "text": [
      "[INFO] evaluating network...\n"
     ]
    }
   ],
   "source": [
    "print(\"[INFO] evaluating network...\")\n"
   ]
  },
  {
   "cell_type": "code",
   "execution_count": 22,
   "metadata": {},
   "outputs": [],
   "source": [
    "predIdxs = model.predict_generator(testGen,\n",
    "steps=(totalTest // BS) + 1)"
   ]
  },
  {
   "cell_type": "code",
   "execution_count": 23,
   "metadata": {},
   "outputs": [
    {
     "name": "stdout",
     "output_type": "stream",
     "text": [
      "              precision    recall  f1-score   support\n",
      "\n",
      "           0       0.91      0.88      0.89     39793\n",
      "           1       0.72      0.77      0.75     15712\n",
      "\n",
      "    accuracy                           0.85     55505\n",
      "   macro avg       0.81      0.83      0.82     55505\n",
      "weighted avg       0.85      0.85      0.85     55505\n",
      "\n"
     ]
    }
   ],
   "source": [
    "predIdxs =  np.argmax(predIdxs, axis=1)\n",
    "\n",
    "print(classification_report(testGen.classes, predIdxs,\n",
    "target_names=testGen.class_indices.keys()))"
   ]
  },
  {
   "cell_type": "code",
   "execution_count": 25,
   "metadata": {},
   "outputs": [
    {
     "name": "stdout",
     "output_type": "stream",
     "text": [
      "Saved model to disk\n"
     ]
    }
   ],
   "source": [
    "model_json = model.to_json()\n",
    "with open(\"model.json\", \"w\") as json_file:\n",
    "    json_file.write(model_json)\n",
    "model.save_weights(\"model.h5\")\n",
    "print(\"Saved model to disk\")"
   ]
  },
  {
   "cell_type": "code",
   "execution_count": 1,
   "metadata": {},
   "outputs": [
    {
     "ename": "FileNotFoundError",
     "evalue": "[Errno 2] No such file or directory: 'model.h5'",
     "output_type": "error",
     "traceback": [
      "\u001b[1;31m---------------------------------------------------------------------------\u001b[0m",
      "\u001b[1;31mFileNotFoundError\u001b[0m                         Traceback (most recent call last)",
      "\u001b[1;32m<ipython-input-1-4d33576cc3a4>\u001b[0m in \u001b[0;36m<module>\u001b[1;34m\u001b[0m\n\u001b[1;32m----> 1\u001b[1;33m \u001b[0mjson_file\u001b[0m \u001b[1;33m=\u001b[0m \u001b[0mopen\u001b[0m\u001b[1;33m(\u001b[0m\u001b[1;34m'model.h5'\u001b[0m\u001b[1;33m)\u001b[0m\u001b[1;33m\u001b[0m\u001b[1;33m\u001b[0m\u001b[0m\n\u001b[0m",
      "\u001b[1;31mFileNotFoundError\u001b[0m: [Errno 2] No such file or directory: 'model.h5'"
     ]
    }
   ],
   "source": [
    "json_file = open('model.h5')"
   ]
  }
 ],
 "metadata": {
  "kernelspec": {
   "display_name": "Python 2",
   "language": "python",
   "name": "python2"
  },
  "language_info": {
   "codemirror_mode": {
    "name": "ipython",
    "version": 2
   },
   "file_extension": ".py",
   "mimetype": "text/x-python",
   "name": "python",
   "nbconvert_exporter": "python",
   "pygments_lexer": "ipython2",
   "version": "2.7.16"
  }
 },
 "nbformat": 4,
 "nbformat_minor": 2
}
